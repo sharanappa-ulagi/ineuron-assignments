{
 "cells": [
  {
   "cell_type": "code",
   "execution_count": 1,
   "id": "52464aec",
   "metadata": {},
   "outputs": [],
   "source": [
    "## question 01\n",
    "## task 02"
   ]
  },
  {
   "cell_type": "code",
   "execution_count": null,
   "id": "34dd8891",
   "metadata": {},
   "outputs": [],
   "source": [
    "from random import randrange\n",
    "\n",
    "\n",
    "class find_triangle:\n",
    "    def __init__(self,a,b,c):\n",
    "        self.a=a\n",
    "        self.b=b\n",
    "        self.c=c\n",
    "        self.s= (a+b+c) / 2\n",
    "\n",
    "    def total(self):\n",
    "        total=(self.s*(self.s-self.a)*(self.s-self.b)*(self.s-self.c)) ** 0.5\n",
    "        return f\"Your area of triangle is {total}\"\n",
    "\n",
    "\n",
    "a=int(input(f\"Enter length of 1st side: \"))\n",
    "b=int(input(f\"Enter length of 2nd side: \"))\n",
    "c=int(input(f\"Enter length of 3rd side: \"))\n",
    "\n",
    "tri=find_triangle(a,b,c)\n",
    "print(tri.total())"
   ]
  },
  {
   "cell_type": "code",
   "execution_count": null,
   "id": "2bd5846c",
   "metadata": {},
   "outputs": [],
   "source": [
    "## task 02"
   ]
  },
  {
   "cell_type": "code",
   "execution_count": null,
   "id": "3b8f599d",
   "metadata": {},
   "outputs": [],
   "source": [
    "def filter_long_words(lst,n):\n",
    "    lst1=[]\n",
    "    for i in lst:\n",
    "        if len(i)>n:\n",
    "            lst1.append(i)\n",
    "    return lst1"
   ]
  },
  {
   "cell_type": "code",
   "execution_count": null,
   "id": "bbbd78fb",
   "metadata": {},
   "outputs": [],
   "source": []
  }
 ],
 "metadata": {
  "kernelspec": {
   "display_name": "Python 3",
   "language": "python",
   "name": "python3"
  },
  "language_info": {
   "codemirror_mode": {
    "name": "ipython",
    "version": 3
   },
   "file_extension": ".py",
   "mimetype": "text/x-python",
   "name": "python",
   "nbconvert_exporter": "python",
   "pygments_lexer": "ipython3",
   "version": "3.8.8"
  }
 },
 "nbformat": 4,
 "nbformat_minor": 5
}
