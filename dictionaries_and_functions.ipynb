{
 "cells": [
  {
   "cell_type": "code",
   "execution_count": 1,
   "id": "e2b99c51",
   "metadata": {},
   "outputs": [],
   "source": [
    "## question 01\n",
    "## task 02"
   ]
  },
  {
   "cell_type": "code",
   "execution_count": 3,
   "id": "aed00520",
   "metadata": {},
   "outputs": [
    {
     "name": "stdout",
     "output_type": "stream",
     "text": [
      "Enter length of 1st side: 43\n",
      "Enter length of 2nd side: 34\n",
      "Enter length of 3rd side: 34\n",
      "Your area of triangle is 566.2913892158347\n"
     ]
    }
   ],
   "source": [
    "from random import randrange\n",
    "\n",
    "\n",
    "class find_triangle:\n",
    "    def __init__(self,a,b,c):\n",
    "        self.a=a\n",
    "        self.b=b\n",
    "        self.c=c\n",
    "        self.s= (a+b+c) / 2\n",
    "\n",
    "    def total(self):\n",
    "        total=(self.s*(self.s-self.a)*(self.s-self.b)*(self.s-self.c)) ** 0.5\n",
    "        return f\"Your area of triangle is {total}\"\n",
    "\n",
    "\n",
    "a=int(input(f\"Enter length of 1st side: \"))\n",
    "b=int(input(f\"Enter length of 2nd side: \"))\n",
    "c=int(input(f\"Enter length of 3rd side: \"))\n",
    "\n",
    "tri=find_triangle(a,b,c)\n",
    "print(tri.total())"
   ]
  },
  {
   "cell_type": "code",
   "execution_count": 4,
   "id": "97506a54",
   "metadata": {},
   "outputs": [],
   "source": [
    "## task 02"
   ]
  },
  {
   "cell_type": "code",
   "execution_count": 5,
   "id": "0a88350e",
   "metadata": {},
   "outputs": [],
   "source": [
    "def filter_long_words(lst,n):\n",
    "    lst1=[]\n",
    "    for i in lst:\n",
    "        if len(i)>n:\n",
    "            lst1.append(i)\n",
    "    return lst1"
   ]
  },
  {
   "cell_type": "code",
   "execution_count": 6,
   "id": "31e459e3",
   "metadata": {},
   "outputs": [],
   "source": [
    "## question 02\n",
    "## task 01"
   ]
  },
  {
   "cell_type": "code",
   "execution_count": 7,
   "id": "5b391ee0",
   "metadata": {},
   "outputs": [],
   "source": [
    "from pdb import lasti2lineno\n",
    "\n",
    "\n",
    "def len_of_word(lst):\n",
    "    lst2=[]\n",
    "    for i in lst:\n",
    "        lst2.append(len(i))\n",
    "    return "
   ]
  },
  {
   "cell_type": "code",
   "execution_count": 8,
   "id": "262222f3",
   "metadata": {},
   "outputs": [],
   "source": [
    "#task 02"
   ]
  },
  {
   "cell_type": "code",
   "execution_count": 9,
   "id": "4691c1b4",
   "metadata": {},
   "outputs": [
    {
     "name": "stdout",
     "output_type": "stream",
     "text": [
      "Enter the letter :- r\n",
      "False \n"
     ]
    }
   ],
   "source": [
    "def vowel(x):\n",
    "    if x in [\"a\", \"e\", \"i\", \"o\", \"u\", \"A\", \"E\", \"I\", \"O\", \"U\"]:\n",
    "        return \"True\"\n",
    "    else:\n",
    "        return \"False \"\n",
    "a = input (\"Enter the letter :- \")\n",
    "print (vowel(a))"
   ]
  },
  {
   "cell_type": "code",
   "execution_count": null,
   "id": "dcc2e273",
   "metadata": {},
   "outputs": [],
   "source": []
  }
 ],
 "metadata": {
  "kernelspec": {
   "display_name": "Python 3",
   "language": "python",
   "name": "python3"
  },
  "language_info": {
   "codemirror_mode": {
    "name": "ipython",
    "version": 3
   },
   "file_extension": ".py",
   "mimetype": "text/x-python",
   "name": "python",
   "nbconvert_exporter": "python",
   "pygments_lexer": "ipython3",
   "version": "3.8.8"
  }
 },
 "nbformat": 4,
 "nbformat_minor": 5
}
