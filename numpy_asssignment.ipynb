{
 "cells": [
  {
   "cell_type": "code",
   "execution_count": 1,
   "id": "c2e7d394",
   "metadata": {},
   "outputs": [],
   "source": [
    "## task 01"
   ]
  },
  {
   "cell_type": "code",
   "execution_count": 2,
   "id": "da220a32",
   "metadata": {},
   "outputs": [],
   "source": [
    "import numpy as np"
   ]
  },
  {
   "cell_type": "code",
   "execution_count": 3,
   "id": "675e91ef",
   "metadata": {},
   "outputs": [],
   "source": [
    "\n",
    "\n",
    "def alexTheoVander(iVector, n, increasing = False):\n",
    "  if increasing:\n",
    "    oMatrix = np.matrix([x**i for x in iVector for i in range(n)]).reshape(iVector.size, n)\n",
    "  else:\n",
    "    oMatrix = np.matrix([x**(n-i-1) for x in iVector for i in range(n)]).reshape(iVector.size, n)\n",
    "  return oMatrix\n",
    "\n"
   ]
  },
  {
   "cell_type": "code",
   "execution_count": 4,
   "id": "dc66681f",
   "metadata": {},
   "outputs": [],
   "source": [
    "iVector = np.array([1, 3, 5, 7, 9])\n",
    "n = 5"
   ]
  },
  {
   "cell_type": "code",
   "execution_count": 5,
   "id": "1e2ecdaa",
   "metadata": {},
   "outputs": [
    {
     "data": {
      "text/plain": [
       "matrix([[   1,    1,    1,    1,    1],\n",
       "        [   1,    3,    9,   27,   81],\n",
       "        [   1,    5,   25,  125,  625],\n",
       "        [   1,    7,   49,  343, 2401],\n",
       "        [   1,    9,   81,  729, 6561]])"
      ]
     },
     "execution_count": 5,
     "metadata": {},
     "output_type": "execute_result"
    }
   ],
   "source": [
    "\n",
    "\n",
    "oMtarix_asc = alexTheoVander(iVector, n, True)\n",
    "oMtarix_asc\n",
    "\n"
   ]
  },
  {
   "cell_type": "code",
   "execution_count": 6,
   "id": "c51c1edb",
   "metadata": {},
   "outputs": [
    {
     "data": {
      "text/plain": [
       "matrix([[   1,    1,    1,    1,    1],\n",
       "        [  81,   27,    9,    3,    1],\n",
       "        [ 625,  125,   25,    5,    1],\n",
       "        [2401,  343,   49,    7,    1],\n",
       "        [6561,  729,   81,    9,    1]])"
      ]
     },
     "execution_count": 6,
     "metadata": {},
     "output_type": "execute_result"
    }
   ],
   "source": [
    "\n",
    "\n",
    "oMtarix_desc = alexTheoVander(iVector, n, False)\n",
    "oMtarix_desc\n",
    "\n"
   ]
  },
  {
   "cell_type": "code",
   "execution_count": 7,
   "id": "916c2889",
   "metadata": {},
   "outputs": [],
   "source": [
    "## task 02"
   ]
  },
  {
   "cell_type": "code",
   "execution_count": 8,
   "id": "98c6da80",
   "metadata": {},
   "outputs": [],
   "source": [
    "def movingAverage(inputValue, k):\n",
    "  z = 1\n",
    "  output = np.convolve(inputValue, np.ones(k), 'valid') / k\n",
    "  for i in output:\n",
    "    print(\"y{0} = {1:.2f}\".format(z, i))\n",
    "    z += 1"
   ]
  },
  {
   "cell_type": "code",
   "execution_count": null,
   "id": "7c0563c6",
   "metadata": {},
   "outputs": [],
   "source": []
  }
 ],
 "metadata": {
  "kernelspec": {
   "display_name": "Python 3",
   "language": "python",
   "name": "python3"
  },
  "language_info": {
   "codemirror_mode": {
    "name": "ipython",
    "version": 3
   },
   "file_extension": ".py",
   "mimetype": "text/x-python",
   "name": "python",
   "nbconvert_exporter": "python",
   "pygments_lexer": "ipython3",
   "version": "3.8.8"
  }
 },
 "nbformat": 4,
 "nbformat_minor": 5
}
