{
 "cells": [
  {
   "cell_type": "code",
   "execution_count": 1,
   "id": "965adee2",
   "metadata": {},
   "outputs": [
    {
     "name": "stdout",
     "output_type": "stream",
     "text": [
      "Input:\n",
      "Please insert the number :34\n",
      "Output:\n",
      "List of First n Natural numbers are: [1, 2, 3, 4, 5, 6, 7, 8, 9, 10, 11, 12, 13, 14, 15, 16, 17, 18, 19, 20, 21, 22, 23, 24, 25, 26, 27, 28, 29, 30, 31, 32, 33, 34]\n",
      "Sum of List elements are : 595\n"
     ]
    }
   ],
   "source": [
    "## task 01\n",
    "#Sum of First n Natural numbers , Ask user for Number.\n",
    "def myreduce(num):\n",
    "    num_list=list(range(1,number+1))\n",
    "    sum_of_elements=0\n",
    "    \n",
    "    for i in num_list:\n",
    "        sum_of_elements+=i\n",
    "        \n",
    "    return num_list,sum_of_elements\n",
    " \n",
    "print(\"Input:\")\n",
    "number=int(input(\"Please insert the number :\"))\n",
    "output_value=myreduce(number)\n",
    "print(\"Output:\")\n",
    "print(\"List of First n Natural numbers are:\",output_value[0])\n",
    "print(\"Sum of List elements are :\",output_value[1])  "
   ]
  },
  {
   "cell_type": "code",
   "execution_count": 2,
   "id": "61c53cd7",
   "metadata": {},
   "outputs": [],
   "source": [
    "## task 02"
   ]
  },
  {
   "cell_type": "code",
   "execution_count": 3,
   "id": "4b82a21c",
   "metadata": {},
   "outputs": [
    {
     "name": "stdout",
     "output_type": "stream",
     "text": [
      "Input:\n",
      "Please insert the number: 45\n",
      "Output:\n",
      "List of numbers: [1, 2, 3, 4, 5, 6, 7, 8, 9, 10, 11, 12, 13, 14, 15, 16, 17, 18, 19, 20, 21, 22, 23, 24, 25, 26, 27, 28, 29, 30, 31, 32, 33, 34, 35, 36, 37, 38, 39, 40, 41, 42, 43, 44, 45]\n",
      "List of Even numbers, which are multiples of 5 are: [10, 20, 30, 40]\n",
      "List of Odd numbers, which are multiples of 5 are: [5, 15, 25, 35, 45]\n"
     ]
    }
   ],
   "source": [
    "print(\"Input:\")\n",
    "number=int(input(\"Please insert the number: \"))\n",
    "\n",
    "num_list=list(range(1,number+1))\n",
    "\n",
    "\n",
    "def myfilter(num_list):\n",
    "    '''This function will filter even and odd numbers from list which are multiples of 5 '''\n",
    "    num_even_list=[]\n",
    "    num_odd_list=[]\n",
    "    \n",
    "    for i in num_list:\n",
    "        if(i%5==0):\n",
    "            if(i%2==0):\n",
    "                num_even_list.append(i)\n",
    "            else:\n",
    "                num_odd_list.append(i)\n",
    "                \n",
    "    return num_even_list,num_odd_list\n",
    "\n",
    "\n",
    "output_value=myfilter(num_list)\n",
    "\n",
    "\n",
    "\n",
    "print(\"Output:\")\n",
    "print(\"List of numbers:\",num_list)\n",
    "print(\"List of Even numbers, which are multiples of 5 are:\",output_value[0])\n",
    "print(\"List of Odd numbers, which are multiples of 5 are:\",output_value[1])"
   ]
  },
  {
   "cell_type": "code",
   "execution_count": 4,
   "id": "b891f1ce",
   "metadata": {},
   "outputs": [],
   "source": [
    "## task 03"
   ]
  },
  {
   "cell_type": "code",
   "execution_count": null,
   "id": "4c62051a",
   "metadata": {},
   "outputs": [],
   "source": []
  }
 ],
 "metadata": {
  "kernelspec": {
   "display_name": "Python 3",
   "language": "python",
   "name": "python3"
  },
  "language_info": {
   "codemirror_mode": {
    "name": "ipython",
    "version": 3
   },
   "file_extension": ".py",
   "mimetype": "text/x-python",
   "name": "python",
   "nbconvert_exporter": "python",
   "pygments_lexer": "ipython3",
   "version": "3.8.8"
  }
 },
 "nbformat": 4,
 "nbformat_minor": 5
}
